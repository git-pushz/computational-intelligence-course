{
 "cells": [
  {
   "cell_type": "markdown",
   "metadata": {},
   "source": [
    "Copyright **`(c)`** 2021 Giovanni Squillero `<squillero@polito.it>`  \n",
    "`https://github.com/squillero/computational-intelligence`  \n",
    "Free for personal or classroom use; see 'LICENCE.md' for details."
   ]
  },
  {
   "cell_type": "code",
   "execution_count": 71,
   "metadata": {},
   "outputs": [],
   "source": [
    "import logging\n",
    "from collections import deque\n",
    "from pprint import pprint\n",
    "import numpy as np\n",
    "\n",
    "logging.basicConfig(format='[%(asctime)s] %(levelname)s: %(message)s', datefmt='%H:%M:%S', level=logging.INFO)"
   ]
  },
  {
   "cell_type": "code",
   "execution_count": 72,
   "metadata": {},
   "outputs": [],
   "source": [
    "def _contains_duplicates(X):\n",
    "    return np.sum(np.unique(X)) != np.sum(X)\n",
    "\n",
    "def contains_duplicates(sol):\n",
    "    return any(_contains_duplicates(sol[r,:]) for r in range(9)) or \\\n",
    "           any(_contains_duplicates(sol[:,r]) for r in range(9)) or \\\n",
    "           any(_contains_duplicates(sol[r:r+3:,c:c+3]) for r in range(0,9,3) for c in range(0,9,3))\n",
    "\n",
    "def valid_solution(sol):\n",
    "    return not contains_duplicates(sol) and np.sum(sol) == (1+2+3+4+5+6+7+8+9) * 9\n",
    "\n",
    "# the function write down digits in the cells that have only one possible value\n",
    "# and returns a matrix where, for each cell, is saved the number of possible digits\n",
    "def pre_process(sol, n):\n",
    "    # in each cell is saved the number of possible digits\n",
    "    actions = np.empty(sol.shape)\n",
    "    # I use nan instead of zeros to exploit nanargmin function inside dfsolve_revisited\n",
    "    actions[:] = np.nan\n",
    "    for i, j in zip(*np.where(sol == 0)):\n",
    "        digit = 0\n",
    "        for c in range(1, 10):\n",
    "            sol[i, j] = c\n",
    "            if not contains_duplicates(sol):\n",
    "                digit = c\n",
    "                if np.isnan(actions[i, j]):\n",
    "                    actions[i, j] = 1\n",
    "                else:  \n",
    "                    actions[i, j] += 1\n",
    "        if actions[i, j] != 1:\n",
    "            sol[i, j] = 0\n",
    "        # if there is only one possible digit, I already write it down\n",
    "        else:\n",
    "            sol[i, j] = digit\n",
    "            actions[i, j] = np.nan\n",
    "    return actions\n",
    "\n",
    "def print_sudoku(sudoku):\n",
    "    print(\"+-------+-------+-------+\")\n",
    "    for b in range(0, 9, 3):\n",
    "        for r in range(3):\n",
    "            print(\"|\", \" | \".join(\" \".join(str(_) for _ in sudoku[b+r, c:c+3]) for c in range(0, 9, 3)), \"|\")\n",
    "        print(\"+-------+-------+-------+\")\n"
   ]
  },
  {
   "cell_type": "code",
   "execution_count": 73,
   "metadata": {},
   "outputs": [],
   "source": [
    "def dfsolve(sudoku):\n",
    "    \"\"\"Vanilla depth-first solver for sudoku puzzles\"\"\"\n",
    "    frontier = deque([sudoku.copy()])\n",
    "    num_nodes = 0\n",
    "    while frontier:\n",
    "        node = frontier.popleft()\n",
    "        num_nodes += 1\n",
    "\n",
    "        if valid_solution(node):\n",
    "            logging.info(f\"Solved after expanding {num_nodes:,} nodes\")\n",
    "            return node\n",
    "\n",
    "        for i, j in zip(*np.where(node == 0)):\n",
    "            for c in range(1, 10):\n",
    "                node[i, j] = c\n",
    "                if not contains_duplicates(node):\n",
    "                    frontier.appendleft(node.copy())\n",
    "    logging.info(f\"Giving up after expanding {num_nodes:,} nodes\")\n",
    "    return None"
   ]
  },
  {
   "cell_type": "code",
   "execution_count": 74,
   "metadata": {},
   "outputs": [],
   "source": [
    "# For variable ordering (which square I try first), I choose the (or one of the) square with the minimum number of possible values.\n",
    "# to reduce the probability of guessing wrong\n",
    "# For value ordering (which digit I try first), I consider the digits in numeric order\n",
    "# Lastly, at each expansion iteration I immediately write down digits in those cells that have only one possible digit\n",
    "def dfsolve_revisited(sudoku):\n",
    "    \"\"\"Revisited depth-first solver for sudoku puzzles\"\"\"\n",
    "    frontier = deque([sudoku.copy()])\n",
    "    num_nodes = 0\n",
    "    while frontier:\n",
    "        num_nodes += 1\n",
    "        node = frontier.popleft()\n",
    "        actions = pre_process(node, num_nodes)\n",
    "\n",
    "        if valid_solution(node):\n",
    "            logging.info(f\"Solved after expanding {num_nodes:,} nodes\")\n",
    "            return node\n",
    "        \n",
    "        # if empty cells with at least one possible digit are less than the number of empty cells, backtracking occurs\n",
    "        not_nan_count = np.count_nonzero(~np.isnan(actions))\n",
    "        zeros_count = np.count_nonzero(node == 0)\n",
    "        if not_nan_count >= zeros_count : \n",
    "            # i, j are the index of the cell with less valid digits  \n",
    "            i, j = np.unravel_index(np.nanargmin(actions), actions.shape)\n",
    "            for c in range(1, 10):\n",
    "                node[i, j] = c\n",
    "                if not contains_duplicates(node):\n",
    "                    frontier.appendleft(node.copy())\n",
    "\n",
    "    logging.info(f\"Giving up after expanding {num_nodes:,} nodes\")\n",
    "    return None\n"
   ]
  },
  {
   "cell_type": "code",
   "execution_count": 75,
   "metadata": {},
   "outputs": [],
   "source": [
    "# Before writing dfsolve_revisited I tried solving the sudoku with a breadth first algorithm\n",
    "# As it was immaginable it behaved very poorly\n",
    "def bfsolve(sudoku):\n",
    "    \"\"\"breadth-first solver for sudoku puzzles\"\"\"\n",
    "    frontier = deque([sudoku.copy()])\n",
    "    num_nodes = 0\n",
    "    while len(frontier) > 0:\n",
    "        node = frontier.popleft()\n",
    "        num_nodes += 1\n",
    "\n",
    "        if valid_solution(node):\n",
    "            logging.info(f\"Solved after expanding {num_nodes:,} nodes\")\n",
    "            return node\n",
    "\n",
    "        for i, j in zip(*np.where(node == 0)):\n",
    "            for c in range(1, 10):\n",
    "                node[i, j] = c\n",
    "                if not contains_duplicates(node):\n",
    "                    frontier.append(node.copy())\n",
    "    logging.info(f\"Giving up after expanding {num_nodes:,} nodes\")\n",
    "    return None"
   ]
  },
  {
   "cell_type": "code",
   "execution_count": 76,
   "metadata": {},
   "outputs": [],
   "source": [
    "simple_sudoku = np.array([[6, 0, 4,    0, 7, 0,    0, 0, 1],\n",
    "                          [0, 5, 0,    0, 0, 0,    0, 7, 0], \n",
    "                          [7, 0, 0,    5, 9, 6,    8, 3, 4], \n",
    "       \n",
    "                          [0, 8, 0,    0, 0, 2,    4, 9, 0], \n",
    "                          [1, 0, 0,    0, 0, 0,    0, 0, 3], \n",
    "                          [0, 6, 9,    7, 0, 0,    0, 5, 0], \n",
    "       \n",
    "                          [9, 1, 8,    3, 6, 7,    0, 0, 5], \n",
    "                          [0, 4, 0,    0, 0, 0,    0, 6, 0], \n",
    "                          [2, 0, 0,    0, 5, 0,    7, 0, 8]], dtype=np.int8)"
   ]
  },
  {
   "cell_type": "code",
   "execution_count": 77,
   "metadata": {},
   "outputs": [],
   "source": [
    "def sudoku_generator(sudokus=1, *, kappa=5, random_seed=None):\n",
    "    if random_seed:\n",
    "        np.random.seed(random_seed)\n",
    "    for puzzle in range(sudokus):\n",
    "        sudoku = np.zeros((9, 9), dtype=np.int8)\n",
    "        for cell in range(np.random.randint(kappa)):\n",
    "            for p, val in zip(np.random.randint(0, 8, size=(9, 2)), range(1, 10)):\n",
    "                tmp = sudoku.copy()\n",
    "                sudoku[tuple(p)] = val\n",
    "                if contains_duplicates(sudoku):\n",
    "                    sudoku = tmp\n",
    "        yield sudoku.copy()"
   ]
  },
  {
   "cell_type": "code",
   "execution_count": 78,
   "metadata": {},
   "outputs": [
    {
     "name": "stdout",
     "output_type": "stream",
     "text": [
      "+-------+-------+-------+\n",
      "| 0 7 0 | 0 0 0 | 0 6 0 |\n",
      "| 0 4 0 | 8 0 0 | 0 2 0 |\n",
      "| 6 5 0 | 0 9 0 | 0 0 0 |\n",
      "+-------+-------+-------+\n",
      "| 8 1 0 | 0 0 0 | 0 0 0 |\n",
      "| 0 0 3 | 4 0 1 | 0 0 0 |\n",
      "| 0 0 0 | 2 0 7 | 0 0 0 |\n",
      "+-------+-------+-------+\n",
      "| 0 0 0 | 0 0 0 | 0 0 0 |\n",
      "| 0 0 5 | 9 6 0 | 7 0 0 |\n",
      "| 0 0 0 | 0 0 0 | 0 0 0 |\n",
      "+-------+-------+-------+\n",
      "vanilla dfsolve\n"
     ]
    },
    {
     "name": "stderr",
     "output_type": "stream",
     "text": [
      "[18:15:53] INFO: Solved after expanding 803 nodes\n"
     ]
    },
    {
     "name": "stdout",
     "output_type": "stream",
     "text": [
      "+-------+-------+-------+\n",
      "| 9 7 8 | 5 4 2 | 3 6 1 |\n",
      "| 3 4 1 | 8 7 6 | 9 2 5 |\n",
      "| 6 5 2 | 1 9 3 | 8 7 4 |\n",
      "+-------+-------+-------+\n",
      "| 8 1 7 | 6 5 9 | 4 3 2 |\n",
      "| 5 2 3 | 4 8 1 | 6 9 7 |\n",
      "| 4 9 6 | 2 3 7 | 1 5 8 |\n",
      "+-------+-------+-------+\n",
      "| 7 6 4 | 3 1 5 | 2 8 9 |\n",
      "| 2 8 5 | 9 6 4 | 7 1 3 |\n",
      "| 1 3 9 | 7 2 8 | 5 4 6 |\n",
      "+-------+-------+-------+\n",
      "\n",
      "-----------------------------------------------------------------------------------------------\n",
      "\n",
      "revisited dfsolve\n"
     ]
    },
    {
     "name": "stderr",
     "output_type": "stream",
     "text": [
      "[18:15:56] INFO: Solved after expanding 31 nodes\n"
     ]
    },
    {
     "name": "stdout",
     "output_type": "stream",
     "text": [
      "+-------+-------+-------+\n",
      "| 2 7 8 | 5 1 4 | 9 6 3 |\n",
      "| 3 4 9 | 8 7 6 | 5 2 1 |\n",
      "| 6 5 1 | 3 9 2 | 8 7 4 |\n",
      "+-------+-------+-------+\n",
      "| 8 1 2 | 6 5 9 | 3 4 7 |\n",
      "| 7 9 3 | 4 8 1 | 6 5 2 |\n",
      "| 5 6 4 | 2 3 7 | 1 8 9 |\n",
      "+-------+-------+-------+\n",
      "| 9 8 7 | 1 4 5 | 2 3 6 |\n",
      "| 4 2 5 | 9 6 3 | 7 1 8 |\n",
      "| 1 3 6 | 7 2 8 | 4 9 5 |\n",
      "+-------+-------+-------+\n"
     ]
    }
   ],
   "source": [
    "for sudoku in sudoku_generator(random_seed=44):\n",
    "    print_sudoku(sudoku)\n",
    "    print('vanilla dfsolve')\n",
    "    solution = dfsolve(sudoku)\n",
    "    if solution is not None:\n",
    "        print_sudoku(solution)\n",
    "    print('')\n",
    "    print('-----------------------------------------------------------------------------------------------')\n",
    "    print('')\n",
    "    print('revisited dfsolve')\n",
    "    solution = dfsolve_revisited(sudoku)\n",
    "    if solution is not None:\n",
    "        print_sudoku(solution)"
   ]
  }
 ],
 "metadata": {
  "interpreter": {
   "hash": "7b7a205636705f76a568995f995acc0fb977c2a349c4ff50c3fc4e057490ecbd"
  },
  "kernelspec": {
   "display_name": "Python 3.9.7 64-bit",
   "name": "python3"
  },
  "language_info": {
   "codemirror_mode": {
    "name": "ipython",
    "version": 3
   },
   "file_extension": ".py",
   "mimetype": "text/x-python",
   "name": "python",
   "nbconvert_exporter": "python",
   "pygments_lexer": "ipython3",
   "version": "3.9.7"
  },
  "orig_nbformat": 4
 },
 "nbformat": 4,
 "nbformat_minor": 2
}
